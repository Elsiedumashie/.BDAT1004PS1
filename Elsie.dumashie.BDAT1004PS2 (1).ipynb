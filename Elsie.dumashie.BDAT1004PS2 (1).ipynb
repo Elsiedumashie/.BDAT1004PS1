{
 "cells": [
  {
   "cell_type": "markdown",
   "id": "cb5a7c70",
   "metadata": {},
   "source": [
    "# Question 1\n",
    "What value is displayed when the last expression (a) is evaluated? Explain your answer by indicating what happens in every executed statement.\n",
    "\n"
   ]
  },
  {
   "cell_type": "code",
   "execution_count": 4,
   "id": "4026e4be",
   "metadata": {},
   "outputs": [
    {
     "data": {
      "text/plain": [
       "6"
      ]
     },
     "execution_count": 4,
     "metadata": {},
     "output_type": "execute_result"
    }
   ],
   "source": [
    "\n",
    "a = 0\n",
    "def b():\n",
    " global a\n",
    " a = c(a)\n",
    "def c(a):\n",
    " return a + 2\n",
    "b()\n",
    "b()\n",
    "b()\n",
    "a"
   ]
  },
  {
   "cell_type": "markdown",
   "id": "a437cf17",
   "metadata": {},
   "source": [
    "The value displayed is 6 we first set the variable a=0, then set a function b which returned global variable (a) we then defined the function c in a ,which returned a +2 . When we first run the code it calls c(a), which is equal to 0, the retun then adds a 2 to it which is equal to 2 then adds another 2 which gives 4, when run again another 2 is added therefore a =6"
   ]
  },
  {
   "cell_type": "markdown",
   "id": "c7327e15",
   "metadata": {},
   "source": [
    "# Question 2  \n",
    "Function fileLength(), given to you, takes the name of a file as input and returns the length of the file:"
   ]
  },
  {
   "cell_type": "code",
   "execution_count": 172,
   "id": "f83912ba",
   "metadata": {},
   "outputs": [
    {
     "data": {
      "text/plain": [
       "123"
      ]
     },
     "execution_count": 172,
     "metadata": {},
     "output_type": "execute_result"
    }
   ],
   "source": [
    "def file_length(file_name):\n",
    "  try:\n",
    "      infile = open(file_name,'r')\n",
    "      contents = infile.read()\n",
    "      infile.close()\n",
    "      return len(contents)\n",
    "  except FileNotFoundError:\n",
    "      print(f\"The file '{file_name}' was not found.\")\n",
    "\n",
    "file_length ('Filelength.txt')\n"
   ]
  },
  {
   "cell_type": "markdown",
   "id": "4f6c1983",
   "metadata": {},
   "source": [
    "# Question 3 //\n",
    "Write a class named Marsupial that can be used as shown below: >>> m = Marsupial() >>> m.put_in_pouch('doll') >>> m.put_in_pouch('firetruck') >>> m.put_in_pouch('kitten') >>> m.pouch_contents() ['doll', 'firetruck', 'kitten']\n",
    "Now write a class named Kangaroo as a subclass of Marsupial that inherits all the attributes of Marsupial and also:\n",
    "a. extends the Marsupial __init__ constructor to take, as input, the coordinates x and y of the Kangaroo object,\n",
    "b. supports method jump that takes number values dx and dy as input and moves the kangaroo by dx units along the x-axis and by dy units along the y-axis, and\n",
    "c. overloads the __str__ operator so it behaves as shown below."
   ]
  },
  {
   "cell_type": "code",
   "execution_count": 69,
   "id": "e825b0ab",
   "metadata": {},
   "outputs": [
    {
     "name": "stdout",
     "output_type": "stream",
     "text": [
      "I am a Kangaroo located at coordinates (1, 2) with these items in my pouch: ['doll', 'firetruck', 'kitten']\n"
     ]
    }
   ],
   "source": [
    "class Marsupial:\n",
    "    def __init__(self):\n",
    "        self.pouch = []\n",
    "\n",
    "    def put_in_pouch(self, item):\n",
    "        self.pouch.append(item)\n",
    "\n",
    "    def pouch_contents(self):\n",
    "        return self.pouch\n",
    "\n",
    "class Kangaroo(Marsupial):\n",
    "    def __init__(self, x, y):\n",
    "        super().__init__()\n",
    "        self.x = x\n",
    "        self.y = y\n",
    "\n",
    "    def jump(self, dx, dy):\n",
    "        self.x += dx\n",
    "        self.y += dy\n",
    "\n",
    "    def __str__(self):\n",
    "        return f\"I am a Kangaroo located at coordinates ({self.x}, {self.y}) with these items in my pouch: {self.pouch_contents()}\"\n",
    "\n",
    "# Example usage:\n",
    "kangaroo = Kangaroo(0, 0)\n",
    "kangaroo.put_in_pouch('doll')\n",
    "kangaroo.put_in_pouch('firetruck')\n",
    "kangaroo.put_in_pouch('kitten')\n",
    "\n",
    "kangaroo.jump(1, 2)\n",
    "\n",
    "print(kangaroo)\n",
    "    "
   ]
  },
  {
   "cell_type": "markdown",
   "id": "caf41261",
   "metadata": {},
   "source": [
    "# Question 4\n",
    "Write function collatz() that takes a positive integer x as input and prints the Collatz sequence starting at x. A Collatz sequence is obtained by repeatedly applying this rule to the previous number x in the sequence:\n",
    "x = { 𝑥/2 𝑖𝑓 𝑥 𝑖𝑠 𝑒𝑣𝑒𝑛3𝑥+1 𝑖𝑓 𝑥 𝑖𝑠 𝑜𝑑𝑑\n",
    "Your function should stop when the sequence gets to number 1. Your implementation must be recursive, without any loops."
   ]
  },
  {
   "cell_type": "code",
   "execution_count": 173,
   "id": "a9b0924a",
   "metadata": {},
   "outputs": [
    {
     "name": "stdout",
     "output_type": "stream",
     "text": [
      "input a positive integer 5\n",
      "5\n",
      "Collatz sequence:\n",
      "5 16 8 4 2 1 "
     ]
    }
   ],
   "source": [
    "def collatz(x):\n",
    "  print(x, end=' ')\n",
    "  if x == 1:\n",
    "    return\n",
    "  if x%2 == 0:\n",
    "    collatz(x//2)\n",
    "  else:\n",
    "    collatz(3 * x + 1)\n",
    "\n",
    "# Example usage:\n",
    "x=int(input('input a positive integer '))\n",
    "print(x)\n",
    "if x <= 0:\n",
    "  print(\"Please enter a positive integer.\")\n",
    "else:\n",
    "  print(\"Collatz sequence:\")\n",
    "  collatz(x)"
   ]
  },
  {
   "cell_type": "markdown",
   "id": "d565405a",
   "metadata": {},
   "source": [
    "# Question 5\n",
    "Write a recursive method binary() that takes a non-negative integer n and prints the binary representation of integer n."
   ]
  },
  {
   "cell_type": "code",
   "execution_count": 29,
   "id": "4675c953",
   "metadata": {},
   "outputs": [
    {
     "data": {
      "text/plain": [
       "10011"
      ]
     },
     "execution_count": 29,
     "metadata": {},
     "output_type": "execute_result"
    }
   ],
   "source": [
    "def binary(n):\n",
    "   if n==0:\n",
    "    return 0\n",
    "   else:\n",
    "    return (n% 2 +10*binary(int(n//2)))\n",
    "                \n",
    "n= 19\n",
    "binary(n)\n",
    "    "
   ]
  },
  {
   "cell_type": "markdown",
   "id": "0efd2ff9",
   "metadata": {},
   "source": [
    "# Question 6\n",
    "Implement a class named HeadingParser that can be used to parse an HTML document, and retrieve and print all the headings in the document. You should implement your class as a subclass of HTMLParser, defined in Standard Library module html.parser. When fed a string containing HTML code, your class should print the headings, one per line and in the order in which they appear in the document. Each heading should be indented as follows: an h1 heading should have indentation 0, and h2 heading should have indentation 1, etc. Test your implementation using w3c.html."
   ]
  },
  {
   "cell_type": "code",
   "execution_count": 206,
   "id": "9fba60ff",
   "metadata": {},
   "outputs": [],
   "source": [
    "from html.parser import HTMLParser\n",
    "\n",
    "class HeadingParser(HTMLParser):\n",
    "  def __init__(self):\n",
    "    super().__init__()\n",
    "    self.record = False\n",
    "\n",
    "  def handle_starttag(self, tag, attrs):\n",
    "    if tag == \"h1\":\n",
    "      print (\"\", end = '')\n",
    "      self.record = True\n",
    "    if tag == \"h2\":\n",
    "      print (\" \", end = '')\n",
    "      self.record = True\n",
    "    if tag == \"h3\":\n",
    "      print(\"  \", end = '')\n",
    "      self.record = True\n",
    "    if tag == \"h4\":\n",
    "      print(\"   \", end = '')\n",
    "      self.record = True\n",
    "    if tag == \"h5\":\n",
    "      print(\"    \", end = '')\n",
    "      self.record = True\n",
    "\n",
    "  def handle_data(self, data):\n",
    "    if self.record:\n",
    "      print(data, end = '')\n",
    "\n",
    "\n",
    "  def handle_endtag(self, tag):\n",
    "    if tag in [\"h1\", \"h2\", \"h3\", \"h4\", \"h5\"]:\n",
    "      print(\"\")\n",
    "      self.record = False\n",
    "\n",
    "\n",
    "infile = open('w3c.html')\n",
    "content = infile.read()\n",
    "infile.close()\n",
    "hp = HeadingParser()\n",
    "hp.feed(content)"
   ]
  },
  {
   "cell_type": "markdown",
   "id": "0770c874",
   "metadata": {},
   "source": [
    "# Question 7 \n",
    "implement recursive function webdir() that takes as input: a URL (as a string) and non-negative integers depth and indent. Your function should visit every web page reachable from the starting URL web page in depth clicks or less, and print each web page's URL. As shown below, indentation, specified by indent, should be used to indicate the depth of a URL."
   ]
  },
  {
   "cell_type": "code",
   "execution_count": 176,
   "id": "e0cafb17",
   "metadata": {},
   "outputs": [
    {
     "name": "stdout",
     "output_type": "stream",
     "text": [
      "https://www.scrapethissite.com/pages/\n",
      "\thttps://www.scrapethissite.com//\n",
      "\t\thttps://www.scrapethissite.com//\n",
      "\t\thttps://www.scrapethissite.com//pages/\n",
      "\t\thttps://www.scrapethissite.com//lessons/\n",
      "\t\thttps://www.scrapethissite.com//faq/\n",
      "\t\thttps://www.scrapethissite.com//login/\n",
      "\t\thttps://www.scrapethissite.com//pages/\n",
      "\t\thttps://www.scrapethissite.com//lessons/\n",
      "\thttps://www.scrapethissite.com//pages/\n",
      "\t\thttps://www.scrapethissite.com//\n",
      "\t\thttps://www.scrapethissite.com//pages/\n",
      "\t\thttps://www.scrapethissite.com//lessons/\n",
      "\t\thttps://www.scrapethissite.com//faq/\n",
      "\t\thttps://www.scrapethissite.com//login/\n",
      "\t\thttps://www.scrapethissite.com//pages/simple/\n",
      "\t\thttps://www.scrapethissite.com//pages/forms/\n",
      "\t\thttps://www.scrapethissite.com//pages/ajax-javascript/\n",
      "\t\thttps://www.scrapethissite.com//pages/frames/\n",
      "\t\thttps://www.scrapethissite.com//pages/advanced/\n",
      "\thttps://www.scrapethissite.com//lessons/\n",
      "\t\thttps://www.scrapethissite.com//\n",
      "\t\thttps://www.scrapethissite.com//pages/\n",
      "\t\thttps://www.scrapethissite.com//lessons/\n",
      "\t\thttps://www.scrapethissite.com//faq/\n",
      "\t\thttps://www.scrapethissite.com//login/\n",
      "\t\thttps://gum.co/oLpqb?wanted=true\n",
      "\t\thttps://gum.co/oLpqb?wanted=true\n",
      "\t\thttps://gum.co/oLpqb?wanted=true\n",
      "\t\thttps://gum.co/oLpqb/LASTCHANCE?wanted=true\n",
      "\thttps://www.scrapethissite.com//faq/\n",
      "\t\thttps://www.scrapethissite.com//\n",
      "\t\thttps://www.scrapethissite.com//pages/\n",
      "\t\thttps://www.scrapethissite.com//lessons/\n",
      "\t\thttps://www.scrapethissite.com//faq/\n",
      "\t\thttps://www.scrapethissite.com//login/\n",
      "\t\thttps://www.scrapethissite.com//robots.txt\n",
      "\thttps://www.scrapethissite.com//login/\n",
      "\t\thttps://www.scrapethissite.com//\n",
      "\t\thttps://www.scrapethissite.com//pages/\n",
      "\t\thttps://www.scrapethissite.com//lessons/\n",
      "\t\thttps://www.scrapethissite.com//faq/\n",
      "\t\thttps://www.scrapethissite.com//login/\n",
      "\t\thttps://www.scrapethissite.com//lessons/\n",
      "\thttps://www.scrapethissite.com//pages/simple/\n",
      "\t\thttps://www.scrapethissite.com//\n",
      "\t\thttps://www.scrapethissite.com//pages/\n",
      "\t\thttps://www.scrapethissite.com//lessons/\n",
      "\t\thttps://www.scrapethissite.com//faq/\n",
      "\t\thttps://www.scrapethissite.com//login/\n",
      "\t\thttps://www.scrapethissite.com//lessons/\n",
      "\t\thttp://peric.github.io/GetCountries/\n",
      "\thttps://www.scrapethissite.com//pages/forms/\n",
      "\t\thttps://www.scrapethissite.com//\n",
      "\t\thttps://www.scrapethissite.com//pages/\n",
      "\t\thttps://www.scrapethissite.com//lessons/\n",
      "\t\thttps://www.scrapethissite.com//faq/\n",
      "\t\thttps://www.scrapethissite.com//login/\n",
      "\t\thttps://www.scrapethissite.com//lessons/\n",
      "\t\thttp://www.opensourcesports.com/hockey/\n",
      "\t\thttps://www.scrapethissite.com//pages/forms/?page_num=1\n",
      "\t\thttps://www.scrapethissite.com//pages/forms/?page_num=2\n",
      "\t\thttps://www.scrapethissite.com//pages/forms/?page_num=3\n",
      "\t\thttps://www.scrapethissite.com//pages/forms/?page_num=4\n",
      "\t\thttps://www.scrapethissite.com//pages/forms/?page_num=5\n",
      "\t\thttps://www.scrapethissite.com//pages/forms/?page_num=6\n",
      "\t\thttps://www.scrapethissite.com//pages/forms/?page_num=7\n",
      "\t\thttps://www.scrapethissite.com//pages/forms/?page_num=8\n",
      "\t\thttps://www.scrapethissite.com//pages/forms/?page_num=9\n",
      "\t\thttps://www.scrapethissite.com//pages/forms/?page_num=10\n",
      "\t\thttps://www.scrapethissite.com//pages/forms/?page_num=11\n",
      "\t\thttps://www.scrapethissite.com//pages/forms/?page_num=12\n",
      "\t\thttps://www.scrapethissite.com//pages/forms/?page_num=13\n",
      "\t\thttps://www.scrapethissite.com//pages/forms/?page_num=14\n",
      "\t\thttps://www.scrapethissite.com//pages/forms/?page_num=15\n",
      "\t\thttps://www.scrapethissite.com//pages/forms/?page_num=16\n",
      "\t\thttps://www.scrapethissite.com//pages/forms/?page_num=17\n",
      "\t\thttps://www.scrapethissite.com//pages/forms/?page_num=18\n",
      "\t\thttps://www.scrapethissite.com//pages/forms/?page_num=19\n",
      "\t\thttps://www.scrapethissite.com//pages/forms/?page_num=20\n",
      "\t\thttps://www.scrapethissite.com//pages/forms/?page_num=21\n",
      "\t\thttps://www.scrapethissite.com//pages/forms/?page_num=22\n",
      "\t\thttps://www.scrapethissite.com//pages/forms/?page_num=23\n",
      "\t\thttps://www.scrapethissite.com//pages/forms/?page_num=24\n",
      "\t\thttps://www.scrapethissite.com//pages/forms/?page_num=1\n",
      "\thttps://www.scrapethissite.com//pages/ajax-javascript/\n",
      "\t\thttps://www.scrapethissite.com//\n",
      "\t\thttps://www.scrapethissite.com//pages/\n",
      "\t\thttps://www.scrapethissite.com//lessons/\n",
      "\t\thttps://www.scrapethissite.com//faq/\n",
      "\t\thttps://www.scrapethissite.com//login/\n",
      "\t\thttps://www.scrapethissite.com//lessons/\n",
      "\t\thttps://en.wikipedia.org/wiki/List_of_Academy_Award-winning_films\n",
      "\t\thttps://www.scrapethissite.com/#\n",
      "\t\thttps://www.scrapethissite.com/#\n",
      "\t\thttps://www.scrapethissite.com/#\n",
      "\t\thttps://www.scrapethissite.com/#\n",
      "\t\thttps://www.scrapethissite.com/#\n",
      "\t\thttps://www.scrapethissite.com/#\n",
      "\thttps://www.scrapethissite.com//pages/frames/\n",
      "\t\thttps://www.scrapethissite.com//\n",
      "\t\thttps://www.scrapethissite.com//pages/\n",
      "\t\thttps://www.scrapethissite.com//lessons/\n",
      "\t\thttps://www.scrapethissite.com//faq/\n",
      "\t\thttps://www.scrapethissite.com//login/\n",
      "\t\thttps://www.scrapethissite.com//lessons/\n",
      "\t\thttps://en.wikipedia.org/wiki/List_of_Testudines_families\n",
      "\thttps://www.scrapethissite.com//pages/advanced/\n",
      "\t\thttps://www.scrapethissite.com//\n",
      "\t\thttps://www.scrapethissite.com//pages/\n",
      "\t\thttps://www.scrapethissite.com//lessons/\n",
      "\t\thttps://www.scrapethissite.com//faq/\n",
      "\t\thttps://www.scrapethissite.com//login/\n",
      "\t\thttps://www.scrapethissite.com//pages/advanced/?gotcha=headers\n",
      "\t\thttps://www.scrapethissite.com//pages/advanced/?gotcha=login\n",
      "\t\thttps://www.scrapethissite.com//pages/advanced/?gotcha=csrf\n"
     ]
    }
   ],
   "source": [
    "from bs4 import BeautifulSoup\n",
    "import requests\n",
    "from urllib.parse import urlparse\n",
    "\n",
    "def webdir(url, depth, indent):\n",
    "  print(\"\\t\"* indent + url)\n",
    "  if depth == 0:\n",
    "    return\n",
    "  res_output = requests.get(url).text\n",
    "\n",
    "  soup = BeautifulSoup(res_output, \"html.parser\")\n",
    "  for link in soup.find_all('a', attrs={'href': True}):\n",
    "    if \"http\" in link['href']:\n",
    "      webdir(link['href'], depth-1, indent+1)\n",
    "    else: #Account for pages that use relative naming (without domain)\n",
    "      parsed_uri = urlparse(url)\n",
    "      webdir(parsed_uri.scheme+\"://\"+parsed_uri.netloc+\"/\"+link['href'], depth-1, indent+1)\n",
    "\n",
    "webdir(\"https://www.scrapethissite.com/pages/\", 2, 0)"
   ]
  },
  {
   "cell_type": "markdown",
   "id": "f0f06a2b",
   "metadata": {},
   "source": [
    "# Question 8\n",
    "Write SQL queries on the below database table that return:\n",
    "a) All the temperature data.\n",
    "b) All the cities, but without repetition.\n",
    "c) All the records for India.\n",
    "d) All the Fall records.\n",
    "e) The city, country, and season for which the average rainfall is between 200 and 400 millimeters.\n",
    "f) The city and country for which the average Fall temperature is above 20 degrees, in increasing temperature order.\n",
    "g) The total annual rainfall for Cairo.\n",
    "h) The total rainfall for each season."
   ]
  },
  {
   "cell_type": "code",
   "execution_count": 96,
   "id": "6e682f27",
   "metadata": {},
   "outputs": [
    {
     "name": "stdout",
     "output_type": "stream",
     "text": [
      "Requirement already satisfied: ipython-sql in c:\\users\\elsiedumashie\\anaconda3\\lib\\site-packages (0.5.0)\n",
      "Requirement already satisfied: prettytable in c:\\users\\elsiedumashie\\anaconda3\\lib\\site-packages (from ipython-sql) (3.9.0)\n",
      "Requirement already satisfied: ipython in c:\\users\\elsiedumashie\\anaconda3\\lib\\site-packages (from ipython-sql) (8.12.0)\n",
      "Requirement already satisfied: sqlalchemy>=2.0 in c:\\users\\elsiedumashie\\anaconda3\\lib\\site-packages (from ipython-sql) (2.0.22)\n",
      "Requirement already satisfied: sqlparse in c:\\users\\elsiedumashie\\anaconda3\\lib\\site-packages (from ipython-sql) (0.4.4)\n",
      "Requirement already satisfied: six in c:\\users\\elsiedumashie\\anaconda3\\lib\\site-packages (from ipython-sql) (1.16.0)\n",
      "Requirement already satisfied: ipython-genutils in c:\\users\\elsiedumashie\\anaconda3\\lib\\site-packages (from ipython-sql) (0.2.0)\n",
      "Requirement already satisfied: typing-extensions>=4.2.0 in c:\\users\\elsiedumashie\\anaconda3\\lib\\site-packages (from sqlalchemy>=2.0->ipython-sql) (4.7.1)\n",
      "Requirement already satisfied: greenlet!=0.4.17 in c:\\users\\elsiedumashie\\anaconda3\\lib\\site-packages (from sqlalchemy>=2.0->ipython-sql) (2.0.1)\n",
      "Requirement already satisfied: backcall in c:\\users\\elsiedumashie\\anaconda3\\lib\\site-packages (from ipython->ipython-sql) (0.2.0)\n",
      "Requirement already satisfied: decorator in c:\\users\\elsiedumashie\\anaconda3\\lib\\site-packages (from ipython->ipython-sql) (5.1.1)\n",
      "Requirement already satisfied: jedi>=0.16 in c:\\users\\elsiedumashie\\anaconda3\\lib\\site-packages (from ipython->ipython-sql) (0.18.1)\n",
      "Requirement already satisfied: matplotlib-inline in c:\\users\\elsiedumashie\\anaconda3\\lib\\site-packages (from ipython->ipython-sql) (0.1.6)\n",
      "Requirement already satisfied: pickleshare in c:\\users\\elsiedumashie\\anaconda3\\lib\\site-packages (from ipython->ipython-sql) (0.7.5)\n",
      "Requirement already satisfied: prompt-toolkit!=3.0.37,<3.1.0,>=3.0.30 in c:\\users\\elsiedumashie\\anaconda3\\lib\\site-packages (from ipython->ipython-sql) (3.0.36)\n",
      "Requirement already satisfied: pygments>=2.4.0 in c:\\users\\elsiedumashie\\anaconda3\\lib\\site-packages (from ipython->ipython-sql) (2.15.1)\n",
      "Requirement already satisfied: stack-data in c:\\users\\elsiedumashie\\anaconda3\\lib\\site-packages (from ipython->ipython-sql) (0.2.0)\n",
      "Requirement already satisfied: traitlets>=5 in c:\\users\\elsiedumashie\\anaconda3\\lib\\site-packages (from ipython->ipython-sql) (5.7.1)\n",
      "Requirement already satisfied: colorama in c:\\users\\elsiedumashie\\anaconda3\\lib\\site-packages (from ipython->ipython-sql) (0.4.6)\n",
      "Requirement already satisfied: wcwidth in c:\\users\\elsiedumashie\\anaconda3\\lib\\site-packages (from prettytable->ipython-sql) (0.2.5)\n",
      "Requirement already satisfied: parso<0.9.0,>=0.8.0 in c:\\users\\elsiedumashie\\anaconda3\\lib\\site-packages (from jedi>=0.16->ipython->ipython-sql) (0.8.3)\n",
      "Requirement already satisfied: executing in c:\\users\\elsiedumashie\\anaconda3\\lib\\site-packages (from stack-data->ipython->ipython-sql) (0.8.3)\n",
      "Requirement already satisfied: asttokens in c:\\users\\elsiedumashie\\anaconda3\\lib\\site-packages (from stack-data->ipython->ipython-sql) (2.0.5)\n",
      "Requirement already satisfied: pure-eval in c:\\users\\elsiedumashie\\anaconda3\\lib\\site-packages (from stack-data->ipython->ipython-sql) (0.2.2)\n",
      "The sql extension is already loaded. To reload it, use:\n",
      "  %reload_ext sql\n"
     ]
    }
   ],
   "source": [
    "!pip3 install ipython-sql\n",
    "%load_ext sql\n",
    "import sqlite3\n",
    "%sql sqlite://"
   ]
  },
  {
   "cell_type": "code",
   "execution_count": 121,
   "id": "dbc60f72",
   "metadata": {},
   "outputs": [],
   "source": [
    "%sql sqlite:///weatherdata.db\n",
    "con= sqlite3.connect('weatherdata.db')\n",
    "cur=con.cursor()\n",
    "    "
   ]
  },
  {
   "cell_type": "code",
   "execution_count": 144,
   "id": "55493d4b",
   "metadata": {},
   "outputs": [
    {
     "name": "stdout",
     "output_type": "stream",
     "text": [
      "   sqlite://\n",
      "   sqlite:///weather.db\n",
      " * sqlite:///weatherdata.db\n",
      "Done.\n",
      "Done.\n",
      "12 rows affected.\n"
     ]
    },
    {
     "data": {
      "text/plain": [
       "[]"
      ]
     },
     "execution_count": 144,
     "metadata": {},
     "output_type": "execute_result"
    }
   ],
   "source": [
    "%%sql\n",
    "DROP TABLE IF EXISTS weatherdata;\n",
    "CREATE TABLE weatherdata(\n",
    "     City TEXT,\n",
    "     Country TEXT,\n",
    "     Season TEXT,\n",
    "     Temperature REAL,\n",
    "     Rainfall REAL\n",
    ");\n",
    "-- Completing the data insertion\n",
    " INSERT INTO weatherdata VALUES\n",
    "('Mumbai','India','Winter',24.8,5.9),\n",
    "('Mumbai','India','Spring',28.4,16.2),\n",
    "('Mumbai','India','Summer',27.9,5.9),\n",
    "('Mumbai','India','Fall',27.6,5.9),\n",
    "('London', 'United Kingdom','Winter',4.2,207.7),\n",
    "('London', 'United Kingdom','Spring',8.3,169.6),\n",
    "('London', 'United Kingdom','Summer',15.7,157.0),\n",
    "('London', 'United Kingdom','Fall',10.4,218.5),\n",
    "('Cairo','Egypt','Winter',13.6,16.5),\n",
    "('Cairo','Egypt','Spring',20.7,6.5),\n",
    "('Cairo','Egypt','Summer',27.7,0.1),\n",
    "('Cairo','Egypt','Fall',22.2,4.5);"
   ]
  },
  {
   "cell_type": "code",
   "execution_count": 145,
   "id": "0107aa9c",
   "metadata": {},
   "outputs": [
    {
     "name": "stdout",
     "output_type": "stream",
     "text": [
      "   sqlite://\n",
      "   sqlite:///weather.db\n",
      " * sqlite:///weatherdata.db\n",
      "Done.\n"
     ]
    },
    {
     "data": {
      "text/html": [
       "<table>\n",
       "    <thead>\n",
       "        <tr>\n",
       "            <th>Temperature</th>\n",
       "        </tr>\n",
       "    </thead>\n",
       "    <tbody>\n",
       "        <tr>\n",
       "            <td>24.8</td>\n",
       "        </tr>\n",
       "        <tr>\n",
       "            <td>28.4</td>\n",
       "        </tr>\n",
       "        <tr>\n",
       "            <td>27.9</td>\n",
       "        </tr>\n",
       "        <tr>\n",
       "            <td>27.6</td>\n",
       "        </tr>\n",
       "        <tr>\n",
       "            <td>4.2</td>\n",
       "        </tr>\n",
       "        <tr>\n",
       "            <td>8.3</td>\n",
       "        </tr>\n",
       "        <tr>\n",
       "            <td>15.7</td>\n",
       "        </tr>\n",
       "        <tr>\n",
       "            <td>10.4</td>\n",
       "        </tr>\n",
       "        <tr>\n",
       "            <td>13.6</td>\n",
       "        </tr>\n",
       "        <tr>\n",
       "            <td>20.7</td>\n",
       "        </tr>\n",
       "        <tr>\n",
       "            <td>27.7</td>\n",
       "        </tr>\n",
       "        <tr>\n",
       "            <td>22.2</td>\n",
       "        </tr>\n",
       "    </tbody>\n",
       "</table>"
      ],
      "text/plain": [
       "[(24.8,),\n",
       " (28.4,),\n",
       " (27.9,),\n",
       " (27.6,),\n",
       " (4.2,),\n",
       " (8.3,),\n",
       " (15.7,),\n",
       " (10.4,),\n",
       " (13.6,),\n",
       " (20.7,),\n",
       " (27.7,),\n",
       " (22.2,)]"
      ]
     },
     "execution_count": 145,
     "metadata": {},
     "output_type": "execute_result"
    }
   ],
   "source": [
    "%%sql\n",
    "SELECT Temperature FROM weatherdata;"
   ]
  },
  {
   "cell_type": "code",
   "execution_count": 148,
   "id": "c1a6ab6f",
   "metadata": {},
   "outputs": [
    {
     "name": "stdout",
     "output_type": "stream",
     "text": [
      "   sqlite://\n",
      "   sqlite:///weather.db\n",
      " * sqlite:///weatherdata.db\n",
      "Done.\n"
     ]
    },
    {
     "data": {
      "text/html": [
       "<table>\n",
       "    <thead>\n",
       "        <tr>\n",
       "            <th>City</th>\n",
       "        </tr>\n",
       "    </thead>\n",
       "    <tbody>\n",
       "        <tr>\n",
       "            <td>Mumbai</td>\n",
       "        </tr>\n",
       "        <tr>\n",
       "            <td>London</td>\n",
       "        </tr>\n",
       "        <tr>\n",
       "            <td>Cairo</td>\n",
       "        </tr>\n",
       "    </tbody>\n",
       "</table>"
      ],
      "text/plain": [
       "[('Mumbai',), ('London',), ('Cairo',)]"
      ]
     },
     "execution_count": 148,
     "metadata": {},
     "output_type": "execute_result"
    }
   ],
   "source": [
    "%%sql\n",
    "SELECT DISTINCT City FROM weatherdata;"
   ]
  },
  {
   "cell_type": "code",
   "execution_count": 158,
   "id": "23f5b267",
   "metadata": {},
   "outputs": [
    {
     "name": "stdout",
     "output_type": "stream",
     "text": [
      "   sqlite://\n",
      "   sqlite:///weather.db\n",
      " * sqlite:///weatherdata.db\n",
      "Done.\n"
     ]
    },
    {
     "data": {
      "text/html": [
       "<table>\n",
       "    <thead>\n",
       "        <tr>\n",
       "            <th>City</th>\n",
       "            <th>Country</th>\n",
       "            <th>Season</th>\n",
       "            <th>Temperature</th>\n",
       "            <th>Rainfall</th>\n",
       "        </tr>\n",
       "    </thead>\n",
       "    <tbody>\n",
       "        <tr>\n",
       "            <td>Mumbai</td>\n",
       "            <td>India</td>\n",
       "            <td>Winter</td>\n",
       "            <td>24.8</td>\n",
       "            <td>5.9</td>\n",
       "        </tr>\n",
       "        <tr>\n",
       "            <td>Mumbai</td>\n",
       "            <td>India</td>\n",
       "            <td>Spring</td>\n",
       "            <td>28.4</td>\n",
       "            <td>16.2</td>\n",
       "        </tr>\n",
       "        <tr>\n",
       "            <td>Mumbai</td>\n",
       "            <td>India</td>\n",
       "            <td>Summer</td>\n",
       "            <td>27.9</td>\n",
       "            <td>5.9</td>\n",
       "        </tr>\n",
       "        <tr>\n",
       "            <td>Mumbai</td>\n",
       "            <td>India</td>\n",
       "            <td>Fall</td>\n",
       "            <td>27.6</td>\n",
       "            <td>5.9</td>\n",
       "        </tr>\n",
       "    </tbody>\n",
       "</table>"
      ],
      "text/plain": [
       "[('Mumbai', 'India', 'Winter', 24.8, 5.9),\n",
       " ('Mumbai', 'India', 'Spring', 28.4, 16.2),\n",
       " ('Mumbai', 'India', 'Summer', 27.9, 5.9),\n",
       " ('Mumbai', 'India', 'Fall', 27.6, 5.9)]"
      ]
     },
     "execution_count": 158,
     "metadata": {},
     "output_type": "execute_result"
    }
   ],
   "source": [
    "\n",
    "%%sql\n",
    "SELECT * FROM weatherdata WHERE Country = 'India';"
   ]
  },
  {
   "cell_type": "code",
   "execution_count": 159,
   "id": "481478e0",
   "metadata": {},
   "outputs": [
    {
     "name": "stdout",
     "output_type": "stream",
     "text": [
      "   sqlite://\n",
      "   sqlite:///weather.db\n",
      " * sqlite:///weatherdata.db\n",
      "Done.\n"
     ]
    },
    {
     "data": {
      "text/html": [
       "<table>\n",
       "    <thead>\n",
       "        <tr>\n",
       "            <th>City</th>\n",
       "            <th>Country</th>\n",
       "            <th>Season</th>\n",
       "            <th>Temperature</th>\n",
       "            <th>Rainfall</th>\n",
       "        </tr>\n",
       "    </thead>\n",
       "    <tbody>\n",
       "        <tr>\n",
       "            <td>Mumbai</td>\n",
       "            <td>India</td>\n",
       "            <td>Fall</td>\n",
       "            <td>27.6</td>\n",
       "            <td>5.9</td>\n",
       "        </tr>\n",
       "        <tr>\n",
       "            <td>London</td>\n",
       "            <td>United Kingdom</td>\n",
       "            <td>Fall</td>\n",
       "            <td>10.4</td>\n",
       "            <td>218.5</td>\n",
       "        </tr>\n",
       "        <tr>\n",
       "            <td>Cairo</td>\n",
       "            <td>Egypt</td>\n",
       "            <td>Fall</td>\n",
       "            <td>22.2</td>\n",
       "            <td>4.5</td>\n",
       "        </tr>\n",
       "    </tbody>\n",
       "</table>"
      ],
      "text/plain": [
       "[('Mumbai', 'India', 'Fall', 27.6, 5.9),\n",
       " ('London', 'United Kingdom', 'Fall', 10.4, 218.5),\n",
       " ('Cairo', 'Egypt', 'Fall', 22.2, 4.5)]"
      ]
     },
     "execution_count": 159,
     "metadata": {},
     "output_type": "execute_result"
    }
   ],
   "source": [
    "%%sql\n",
    "SELECT * FROM weatherdata WHERE Season= 'Fall';"
   ]
  },
  {
   "cell_type": "code",
   "execution_count": 203,
   "id": "f19f34c4",
   "metadata": {},
   "outputs": [
    {
     "name": "stdout",
     "output_type": "stream",
     "text": [
      "   sqlite://\n",
      "   sqlite:///weather.db\n",
      " * sqlite:///weatherdata.db\n",
      "Done.\n"
     ]
    },
    {
     "data": {
      "text/html": [
       "<table>\n",
       "    <thead>\n",
       "        <tr>\n",
       "            <th>City</th>\n",
       "            <th>Country</th>\n",
       "            <th>Season</th>\n",
       "        </tr>\n",
       "    </thead>\n",
       "    <tbody>\n",
       "        <tr>\n",
       "            <td>London</td>\n",
       "            <td>United Kingdom</td>\n",
       "            <td>Winter</td>\n",
       "        </tr>\n",
       "        <tr>\n",
       "            <td>London</td>\n",
       "            <td>United Kingdom</td>\n",
       "            <td>Fall</td>\n",
       "        </tr>\n",
       "    </tbody>\n",
       "</table>"
      ],
      "text/plain": [
       "[('London', 'United Kingdom', 'Winter'), ('London', 'United Kingdom', 'Fall')]"
      ]
     },
     "execution_count": 203,
     "metadata": {},
     "output_type": "execute_result"
    }
   ],
   "source": [
    "%%sql\n",
    "SELECT City,Country, Season from weatherdata where Rainfall > 200 and Rainfall < 400;\n"
   ]
  },
  {
   "cell_type": "code",
   "execution_count": 197,
   "id": "df54c68c",
   "metadata": {},
   "outputs": [
    {
     "name": "stdout",
     "output_type": "stream",
     "text": [
      "   sqlite://\n",
      "   sqlite:///weather.db\n",
      " * sqlite:///weatherdata.db\n",
      "Done.\n"
     ]
    },
    {
     "data": {
      "text/html": [
       "<table>\n",
       "    <thead>\n",
       "        <tr>\n",
       "            <th>City</th>\n",
       "            <th>Country</th>\n",
       "        </tr>\n",
       "    </thead>\n",
       "    <tbody>\n",
       "        <tr>\n",
       "            <td>Cairo</td>\n",
       "            <td>Egypt</td>\n",
       "        </tr>\n",
       "        <tr>\n",
       "            <td>Mumbai</td>\n",
       "            <td>India</td>\n",
       "        </tr>\n",
       "    </tbody>\n",
       "</table>"
      ],
      "text/plain": [
       "[('Cairo', 'Egypt'), ('Mumbai', 'India')]"
      ]
     },
     "execution_count": 197,
     "metadata": {},
     "output_type": "execute_result"
    }
   ],
   "source": [
    "%%sql\n",
    "Select City, Country from weatherdata WHERE Season ='Fall'AND Temperature > 20\n",
    "ORDER BY Temperature asc;"
   ]
  },
  {
   "cell_type": "code",
   "execution_count": 198,
   "id": "848501b2",
   "metadata": {},
   "outputs": [
    {
     "name": "stdout",
     "output_type": "stream",
     "text": [
      "   sqlite://\n",
      "   sqlite:///weather.db\n",
      " * sqlite:///weatherdata.db\n",
      "Done.\n"
     ]
    },
    {
     "data": {
      "text/html": [
       "<table>\n",
       "    <thead>\n",
       "        <tr>\n",
       "            <th>Sum(Rainfall)</th>\n",
       "        </tr>\n",
       "    </thead>\n",
       "    <tbody>\n",
       "        <tr>\n",
       "            <td>27.6</td>\n",
       "        </tr>\n",
       "    </tbody>\n",
       "</table>"
      ],
      "text/plain": [
       "[(27.6,)]"
      ]
     },
     "execution_count": 198,
     "metadata": {},
     "output_type": "execute_result"
    }
   ],
   "source": [
    "\n",
    "%%sql\n",
    "\n",
    "Select Sum(Rainfall) from weatherdata WHERE City ='Cairo';"
   ]
  },
  {
   "cell_type": "code",
   "execution_count": 193,
   "id": "a4f82356",
   "metadata": {},
   "outputs": [
    {
     "name": "stdout",
     "output_type": "stream",
     "text": [
      "   sqlite://\n",
      "   sqlite:///weather.db\n",
      " * sqlite:///weatherdata.db\n",
      "Done.\n"
     ]
    },
    {
     "data": {
      "text/html": [
       "<table>\n",
       "    <thead>\n",
       "        <tr>\n",
       "            <th>Season</th>\n",
       "            <th>Sum(Rainfall)</th>\n",
       "        </tr>\n",
       "    </thead>\n",
       "    <tbody>\n",
       "        <tr>\n",
       "            <td>Fall</td>\n",
       "            <td>228.9</td>\n",
       "        </tr>\n",
       "        <tr>\n",
       "            <td>Spring</td>\n",
       "            <td>192.29999999999998</td>\n",
       "        </tr>\n",
       "        <tr>\n",
       "            <td>Summer</td>\n",
       "            <td>163.0</td>\n",
       "        </tr>\n",
       "        <tr>\n",
       "            <td>Winter</td>\n",
       "            <td>230.1</td>\n",
       "        </tr>\n",
       "    </tbody>\n",
       "</table>"
      ],
      "text/plain": [
       "[('Fall', 228.9),\n",
       " ('Spring', 192.29999999999998),\n",
       " ('Summer', 163.0),\n",
       " ('Winter', 230.1)]"
      ]
     },
     "execution_count": 193,
     "metadata": {},
     "output_type": "execute_result"
    }
   ],
   "source": [
    "%%sql\n",
    "Select Season,Sum(Rainfall) from weatherdata \n",
    "GROUP BY Season;"
   ]
  },
  {
   "cell_type": "markdown",
   "id": "06a1a567",
   "metadata": {},
   "source": [
    "# Question 9\n",
    " Suppose list words is defined as follows:\n",
    " words = ['The', 'quick', 'brown', 'fox', 'jumps', 'over', 'the', 'lazy', 'dog']\n",
    "Write list comprehension expressions that use list words and generate the following lists:\n",
    "\n",
    "a) ['THE', 'QUICK', 'BROWN', 'FOX', 'JUMPS', 'OVER', 'THE', 'LAZY', 'DOG']\n",
    "\n",
    "b) ['the', 'quick', 'brown', 'fox', 'jumps', 'over', 'the', 'lazy', 'dog']\n",
    "\n",
    "c) [3, 5, 5, 3, 5, 4, 3, 4, 3] (the list of lengths of words in list words).\n",
    "\n",
    "d) [['THE', 'the', 3], ['QUICK', 'quick', 5], ['BROWN', 'brown', 5], ['FOX', 'fox', 3], ['JUMPS', 'jumps', 5], ['OVER', 'over', 4], ['THE', 'the', 3], ['LAZY', 'lazy', 4], ['DOG', 'dog', 3]] (the list containing a list for every word of list words, where each list contains the word in uppercase and lowercase and the length of the word.)\n",
    "\n",
    "e) ['The', 'quick', 'brown', 'fox', 'jumps', 'over', 'the', 'lazy', 'dog'] (the list of words in list words containing 4 or more characters.)"
   ]
  },
  {
   "cell_type": "code",
   "execution_count": 59,
   "id": "675d14d0",
   "metadata": {},
   "outputs": [
    {
     "name": "stdout",
     "output_type": "stream",
     "text": [
      "a) ['THE', 'QUICK', 'BROWN', 'FOX', 'JUMPS', 'OVER', 'THE', 'LAZY', 'DOG']\n",
      "b) ['the', 'quick', 'brown', 'fox', 'jumps', 'over', 'the', 'lazy', 'dog']\n",
      "c) [3, 5, 5, 3, 5, 4, 3, 4, 3]\n",
      "d) [['THE', 'the', 3], ['QUICK', 'quick', 5], ['BROWN', 'brown', 5], ['FOX', 'fox', 3], ['JUMPS', 'jumps', 5], ['OVER', 'over', 4], ['THE', 'the', 3], ['LAZY', 'lazy', 4], ['DOG', 'dog', 3]]\n",
      "e) ['quick', 'brown', 'jumps', 'over', 'lazy'] is the list of words containing 4 or more characters \n"
     ]
    }
   ],
   "source": [
    "words = ['The', 'quick', 'brown', 'fox', 'jumps', 'over', 'the', 'lazy', 'dog']\n",
    "converted_upperlist = [w.upper() for w in words]\n",
    "print(\"a)\",converted_upperlist)\n",
    "converted_lowerlist = [x.lower() for x in words]\n",
    "print(\"b)\", converted_lowerlist)\n",
    "converted_length_list = [len(i) for i in words]\n",
    "print(\"c)\",converted_length_list)\n",
    "converted_list = [[w.upper(),w.lower(),len(w)] for w in words]\n",
    "print(\"d)\",converted_list)\n",
    "converted_4_inlist = [word for word in words if len(word) >= 4]\n",
    "print(\"e)\",converted_4_inlist,\"is the list of words containing 4 or more characters \")"
   ]
  }
 ],
 "metadata": {
  "kernelspec": {
   "display_name": "Python 3 (ipykernel)",
   "language": "python",
   "name": "python3"
  },
  "language_info": {
   "codemirror_mode": {
    "name": "ipython",
    "version": 3
   },
   "file_extension": ".py",
   "mimetype": "text/x-python",
   "name": "python",
   "nbconvert_exporter": "python",
   "pygments_lexer": "ipython3",
   "version": "3.11.4"
  }
 },
 "nbformat": 4,
 "nbformat_minor": 5
}
